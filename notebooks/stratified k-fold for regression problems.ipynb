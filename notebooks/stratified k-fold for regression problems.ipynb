{
 "cells": [
  {
   "cell_type": "markdown",
   "metadata": {
    "collapsed": true,
    "pycharm": {
     "name": "#%% md\n"
    }
   },
   "source": [
    "# Stratified k-fold for regression problems\n",
    "\n",
    "Si se cuentan con más de 10k muestras lo recomendable es usar 10 o 20 bins.\n",
    "Si el número de muestras es menor se recomienda la regla de Sturge's\n",
    "\n",
    "Regla Sturge:\n",
    "\n",
    "$Number$ $of$ $bins$ = 1 +$log$<sub>2</sub>($N$)\n",
    "\n",
    "Donde $N$ es el número de muestras que se tiene en el conjunto de datos"
   ]
  },
  {
   "cell_type": "code",
   "execution_count": null,
   "outputs": [],
   "source": [
    "\n"
   ],
   "metadata": {
    "collapsed": false,
    "pycharm": {
     "name": "#%%\n"
    }
   }
  }
 ],
 "metadata": {
  "kernelspec": {
   "display_name": "Python 3",
   "language": "python",
   "name": "python3"
  },
  "language_info": {
   "codemirror_mode": {
    "name": "ipython",
    "version": 2
   },
   "file_extension": ".py",
   "mimetype": "text/x-python",
   "name": "python",
   "nbconvert_exporter": "python",
   "pygments_lexer": "ipython2",
   "version": "2.7.6"
  }
 },
 "nbformat": 4,
 "nbformat_minor": 0
}