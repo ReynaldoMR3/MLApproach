{
 "cells": [
  {
   "cell_type": "markdown",
   "metadata": {
    "collapsed": true,
    "pycharm": {
     "name": "#%% md\n"
    }
   },
   "source": [
    "# Stratified k-fold para problemas de regresion\n",
    "\n",
    "Este tipo de validación cruzada nos ayuda a mantener el número de separaciones de manera constante.\n",
    "Si se cuentan con más de 10k muestras lo recomendable es usar 10 o 20 bins.\n",
    "Si el número de muestras es menor se recomienda la regla de Sturge's\n",
    "\n",
    "Regla Sturge:\n",
    "\n",
    "$Number$ $of$ $bins$ = 1 +$log$<sub>2</sub>($N$)\n",
    "\n",
    "Donde $N$ es el número de muestras que se tiene en el conjunto de datos"
   ]
  },
  {
   "cell_type": "code",
   "execution_count": 1,
   "outputs": [
    {
     "data": {
      "text/plain": "<Figure size 432x288 with 1 Axes>",
      "image/png": "[encoded data removed]"
     },
     "metadata": {},
     "output_type": "display_data"
    }
   ],
   "source": [
    "import math\n",
    "import matplotlib.pyplot as plt\n",
    "import pandas as pd\n",
    "import numpy as np\n",
    "import seaborn as sns\n",
    "\n",
    "from sklearn import datasets\n",
    "from sklearn import model_selection\n",
    "\n",
    "sns.set_style('whitegrid')\n",
    "samples = [i for i in range(1000,100000,1000)]\n",
    "number_bins = [1 + math.log2(i) for i in samples]\n",
    "\n",
    "plt.xlabel(\"numero de bins\")\n",
    "plt.ylabel(\"muestras\")\n",
    "plt.xlim(10,20)\n",
    "plt.ylim(0,100000)\n",
    "plt.plot(number_bins, samples)\n",
    "plt.show()"
   ],
   "metadata": {
    "collapsed": false,
    "pycharm": {
     "name": "#%%\n"
    }
   }
  },
  {
   "cell_type": "code",
   "execution_count": 2,
   "outputs": [],
   "source": [
    "#Creando la función\n",
    "def create_folds(data):\n",
    "    #Creando una nueva columna llamada kfold y llenandola con -1\n",
    "    data['kfold'] = -1\n",
    "\n",
    "    #aleatorizando las filas de los datos\n",
    "    data = data.sample(frac=1).reset_index(drop=True)\n",
    "\n",
    "    #calculando el numero de bins con la regla de sturge\n",
    "    num_bins = int(np.floor(1 + np.log2(len(data))))\n",
    "\n",
    "    #creando los targets del bin\n",
    "    data.loc[:, \"bins\"] = pd.cut(\n",
    "        data['target'], bins=num_bins, labels=False\n",
    "    )\n",
    "\n",
    "    #iniciando la clase kfold desde model_selection\n",
    "    kf = model_selection.StratifiedKFold()\n",
    "\n",
    "    #rellenando de nuevo la columnas kfold\n",
    "    for f, (t_, v_) in enumerate(kf.split(X=data, y=data.bins.values)):\n",
    "        data.loc[v_, 'kfold'] = f\n",
    "\n",
    "    #eliminando la columna bins\n",
    "    data = data.drop(\"bins\", axis=1)\n",
    "\n",
    "    #Regresando el dataframe\n",
    "    return data"
   ],
   "metadata": {
    "collapsed": false,
    "pycharm": {
     "name": "#%%\n"
    }
   }
  },
  {
   "cell_type": "code",
   "execution_count": 3,
   "outputs": [],
   "source": [
    "#Creando un conjunto de datos con 15000 muestras, 100 columnas y un target\n",
    "X, y = datasets.make_regression(\n",
    "    n_samples=15000, n_features=100, n_targets=1\n",
    ")\n",
    "\n",
    "#Creando un dataframe de los arrays creados.\n",
    "df = pd.DataFrame(\n",
    "    X,\n",
    "    columns=[f\"f_{i}\" for i in range(X.shape[1])]\n",
    ")\n",
    "df.loc[:, \"target\"] = y\n",
    "\n",
    "#Creando los folds\n",
    "df = create_folds(df)"
   ],
   "metadata": {
    "collapsed": false,
    "pycharm": {
     "name": "#%%\n"
    }
   }
  },
  {
   "cell_type": "code",
   "execution_count": 4,
   "outputs": [
    {
     "data": {
      "text/plain": "array([0, 1, 2, 3, 4])"
     },
     "execution_count": 4,
     "metadata": {},
     "output_type": "execute_result"
    }
   ],
   "source": [
    "df.kfold.unique() #podemos ver que se crearon 5 folds"
   ],
   "metadata": {
    "collapsed": false,
    "pycharm": {
     "name": "#%%\n"
    }
   }
  },
  {
   "cell_type": "markdown",
   "source": [
    "Podemos ver que nuestro dataframe se puede separar en 5 partes iguales siguiendo la regla de sturge\n",
    "y con esto podemos asegurarnos que tenemos una buena validación cruzada."
   ],
   "metadata": {
    "collapsed": false,
    "pycharm": {
     "name": "#%% md\n"
    }
   }
  },
  {
   "cell_type": "code",
   "execution_count": 5,
   "outputs": [
    {
     "name": "stdout",
     "output_type": "stream",
     "text": [
      "3000\n",
      "3000\n",
      "3000\n",
      "3000\n",
      "3000\n"
     ]
    }
   ],
   "source": [
    "# noinspection JupyterKernel\n",
    "for i in range(len(df.kfold.unique())):\n",
    "    print(len(df[df.kfold == i]))"
   ],
   "metadata": {
    "collapsed": false,
    "pycharm": {
     "name": "#%%\n"
    }
   }
  },
  {
   "cell_type": "code",
   "execution_count": 5,
   "outputs": [],
   "source": [],
   "metadata": {
    "collapsed": false,
    "pycharm": {
     "name": "#%%\n"
    }
   }
  },
  {
   "cell_type": "code",
   "execution_count": null,
   "outputs": [],
   "source": [
    "\n"
   ],
   "metadata": {
    "collapsed": false,
    "pycharm": {
     "name": "#%%\n"
    }
   }
  }
 ],
 "metadata": {
  "kernelspec": {
   "name": "pycharm-d1760d3c",
   "language": "python",
   "display_name": "PyCharm (MLApproach)"
  },
  "language_info": {
   "codemirror_mode": {
    "name": "ipython",
    "version": 2
   },
   "file_extension": ".py",
   "mimetype": "text/x-python",
   "name": "python",
   "nbconvert_exporter": "python",
   "pygments_lexer": "ipython2",
   "version": "2.7.6"
  }
 },
 "nbformat": 4,
 "nbformat_minor": 0
}