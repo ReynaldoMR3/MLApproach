{
 "cells": [
  {
   "cell_type": "markdown",
   "metadata": {
    "collapsed": true,
    "pycharm": {
     "name": "#%% md\n"
    }
   },
   "source": [
    "# Metricas de evaluación para modelos de Machine Learning"
   ]
  },
  {
   "cell_type": "code",
   "execution_count": 2,
   "outputs": [],
   "source": [
    "def accuracy(y_true, y_pred):\n",
    "    \"\"\"\n",
    "    Funcion que calcula la exactitud\n",
    "    :param y_true: valores verdaderos\n",
    "    :param y_pred: valores predichos\n",
    "    :return: score de exactitud (accuracy)\n",
    "    \"\"\"\n",
    "    #Iniciando un simple contador\n",
    "    correct_counter = 0\n",
    "    #loop de los elementos en y_true y y_pred juntos\n",
    "    for yt, yp in zip(y_true, y_pred):\n",
    "        if yt == yp:\n",
    "            #Si la prediccion es igual al valor verdadero, incrementa el contador\n",
    "            correct_counter += 1\n",
    "\n",
    "    return correct_counter/len(y_true)"
   ],
   "metadata": {
    "collapsed": false,
    "pycharm": {
     "name": "#%%\n"
    }
   }
  },
  {
   "cell_type": "code",
   "execution_count": 3,
   "outputs": [
    {
     "data": {
      "text/plain": "0.6666666666666666"
     },
     "execution_count": 3,
     "metadata": {},
     "output_type": "execute_result"
    }
   ],
   "source": [
    "accuracy([0,1,1,1,0,1,0,0,1], [0,1,1,0,0,0,1,0,1])"
   ],
   "metadata": {
    "collapsed": false,
    "pycharm": {
     "name": "#%%\n"
    }
   }
  },
  {
   "cell_type": "markdown",
   "source": [
    "#### Las siguientes funciones solo sirven para para clasificaciones binarias."
   ],
   "metadata": {
    "collapsed": false,
    "pycharm": {
     "name": "#%% md\n"
    }
   }
  },
  {
   "cell_type": "code",
   "execution_count": 4,
   "outputs": [],
   "source": [
    "def true_positive(y_true, y_pred):\n",
    "    \"\"\"\n",
    "    Funcion que calcula los verdaderos positivos\n",
    "    :param y_true: valores verdaderos\n",
    "    :param y_pred: valores predichos\n",
    "    :return: total de verdaderos positivos\n",
    "    \"\"\"\n",
    "    #iniciando\n",
    "    tp = 0\n",
    "    for yt, yp in zip(y_true, y_pred):\n",
    "        if yt == 1 and yp == 1:\n",
    "            tp +=1\n",
    "\n",
    "    return tp"
   ],
   "metadata": {
    "collapsed": false,
    "pycharm": {
     "name": "#%%\n"
    }
   }
  },
  {
   "cell_type": "code",
   "execution_count": 5,
   "outputs": [],
   "source": [
    "def true_negative(y_true, y_pred):\n",
    "    \"\"\"\n",
    "    Funcion que calcula los verdaderos negativos\n",
    "    :param y_true: valores verdaderos\n",
    "    :param y_pred: valores predichos\n",
    "    :return: total de verdaderos negativos\n",
    "    \"\"\"\n",
    "    #iniciando\n",
    "    tn = 0\n",
    "\n",
    "    for yt, yp in zip(y_true, y_pred):\n",
    "        if yt == 0 and yp == 0:\n",
    "            tn += 1\n",
    "\n",
    "    return tn"
   ],
   "metadata": {
    "collapsed": false,
    "pycharm": {
     "name": "#%%\n"
    }
   }
  },
  {
   "cell_type": "code",
   "execution_count": 6,
   "outputs": [],
   "source": [
    "def false_positive(y_true, y_pred):\n",
    "    \"\"\"\n",
    "    Función que calcula los falsos positivos\n",
    "    :param y_true: valores verdaderos\n",
    "    :param y_pred: valores predichos\n",
    "    :return: total de falsos positivos\n",
    "    \"\"\"\n",
    "    #iniciando\n",
    "    fp = 0\n",
    "\n",
    "    for yt, yp in zip(y_true, y_pred):\n",
    "        if yt == 0 and yp == 1:\n",
    "            fp += 1\n",
    "\n",
    "    return fp"
   ],
   "metadata": {
    "collapsed": false,
    "pycharm": {
     "name": "#%%\n"
    }
   }
  },
  {
   "cell_type": "code",
   "execution_count": 7,
   "outputs": [],
   "source": [
    "def false_negative(y_true, y_pred):\n",
    "    \"\"\"\n",
    "    Funcion que calcula los falsos positivos\n",
    "    :param y_true: valores verdaderos\n",
    "    :param y_pred: valores predichos\n",
    "    :return: total de falsos positivos\n",
    "    \"\"\"\n",
    "    #iniciando\n",
    "    fn = 0\n",
    "    for yt, yp in zip(y_true, y_pred):\n",
    "        if yt == 1 and yp == 0:\n",
    "            fn += 1\n",
    "\n",
    "    return fn"
   ],
   "metadata": {
    "collapsed": false,
    "pycharm": {
     "name": "#%%\n"
    }
   }
  },
  {
   "cell_type": "code",
   "execution_count": 8,
   "outputs": [
    {
     "name": "stdout",
     "output_type": "stream",
     "text": [
      "Verdaderos positivos:  3\n",
      "Verdaderos negativos:  2\n",
      "Falsos positivos:  2\n",
      "Falsos negativos:  1\n"
     ]
    }
   ],
   "source": [
    "l1 = [0,1,1,1,0,0,0,1]\n",
    "l2 = [0,1,1,0,1,1,0,1]\n",
    "\n",
    "print(\"Verdaderos positivos: \", true_positive(l1,l2))\n",
    "print(\"Verdaderos negativos: \", true_negative(l1,l2))\n",
    "print(\"Falsos positivos: \", false_positive(l1,l2))\n",
    "print(\"Falsos negativos: \", false_negative(l1, l2))"
   ],
   "metadata": {
    "collapsed": false,
    "pycharm": {
     "name": "#%%\n"
    }
   }
  },
  {
   "cell_type": "markdown",
   "source": [
    "$accuracy$_$score$ = $\\frac{{TP + TN}}{TP + TN + FP + FN}$"
   ],
   "metadata": {
    "collapsed": false,
    "pycharm": {
     "name": "#%% md\n"
    }
   }
  },
  {
   "cell_type": "code",
   "execution_count": 9,
   "outputs": [
    {
     "name": "stdout",
     "output_type": "stream",
     "text": [
      "Exactitud 1:  0.625\n",
      "Exactitud 2:  0.625\n",
      "Exactitud 3:  0.625\n"
     ]
    }
   ],
   "source": [
    "from sklearn import metrics\n",
    "tp = true_positive(l1,l2)\n",
    "tn = true_negative(l1, l2)\n",
    "fp = false_positive(l1, l2)\n",
    "fn = false_negative(l1, l2)\n",
    "accuracy_score = (tp + tn) / (tp + tn + fp + fn)\n",
    "print(\"Exactitud 1: \", accuracy_score)\n",
    "print(\"Exactitud 2: \", accuracy(l1, l2))\n",
    "print(\"Exactitud 3: \", metrics.accuracy_score(l1, l2))"
   ],
   "metadata": {
    "collapsed": false,
    "pycharm": {
     "name": "#%%\n"
    }
   }
  },
  {
   "cell_type": "markdown",
   "source": [
    "$Precision$ = $\\frac{{TP}}{TP + FP}$"
   ],
   "metadata": {
    "collapsed": false,
    "pycharm": {
     "name": "#%% md\n"
    }
   }
  },
  {
   "cell_type": "code",
   "execution_count": 10,
   "outputs": [],
   "source": [
    "def precision(y_true, y_pred):\n",
    "    \"\"\"\n",
    "    Funcion para calcular la precision\n",
    "    :param y_true: valores verdaderos\n",
    "    :param y_pred: valores predichos\n",
    "    :return: puntaje de precision\n",
    "    \"\"\"\n",
    "    tp = true_positive(y_true, y_pred)\n",
    "    fp = false_positive(y_true, y_pred)\n",
    "    precision = tp / (tp + fp)\n",
    "\n",
    "    return  precision\n"
   ],
   "metadata": {
    "collapsed": false,
    "pycharm": {
     "name": "#%%\n"
    }
   }
  },
  {
   "cell_type": "code",
   "execution_count": 11,
   "outputs": [
    {
     "name": "stdout",
     "output_type": "stream",
     "text": [
      "Precision : 0.6\n"
     ]
    }
   ],
   "source": [
    "print(\"Precision :\", precision(l1,l2))"
   ],
   "metadata": {
    "collapsed": false,
    "pycharm": {
     "name": "#%%\n"
    }
   }
  },
  {
   "cell_type": "markdown",
   "source": [
    "Ahora calcularemos cuantas muestras positivas identifica\n",
    "\n",
    "$Recall$ = $\\frac{{TP}}{TP+FN}$"
   ],
   "metadata": {
    "collapsed": false,
    "pycharm": {
     "name": "#%% md\n"
    }
   }
  },
  {
   "cell_type": "code",
   "execution_count": 12,
   "outputs": [],
   "source": [
    "def recall(y_true, y_pred):\n",
    "    \"\"\"\n",
    "    Funcion que calcula el total de muestras positivas identificadas\n",
    "    :param y_true: valores verdaderos\n",
    "    :param y_pred: valores predecidos\n",
    "    :return: total de muestras positivas identificadas\n",
    "    \"\"\"\n",
    "    tp = true_positive(y_true, y_pred)\n",
    "    fn = false_negative(y_true, y_pred)\n",
    "    recall = tp / (tp + fn)\n",
    "\n",
    "    return recall"
   ],
   "metadata": {
    "collapsed": false,
    "pycharm": {
     "name": "#%%\n"
    }
   }
  },
  {
   "cell_type": "code",
   "execution_count": 13,
   "outputs": [
    {
     "name": "stdout",
     "output_type": "stream",
     "text": [
      "Total de meustras posivitas identificadas:  0.75\n",
      "Precision:  0.6\n"
     ]
    }
   ],
   "source": [
    "print(\"Total de meustras posivitas identificadas: \", recall(l1,l2))\n",
    "print(\"Precision: \",precision(l1,l2))"
   ],
   "metadata": {
    "collapsed": false,
    "pycharm": {
     "name": "#%%\n"
    }
   }
  },
  {
   "cell_type": "markdown",
   "source": [
    "Para tener un buen modelo la precisión y el total de muestras positivas identificadas deben ser altas.\n",
    "Con esto en mente vamos a gráficar una curva de precisión-recall."
   ],
   "metadata": {
    "collapsed": false,
    "pycharm": {
     "name": "#%% md\n"
    }
   }
  },
  {
   "cell_type": "code",
   "execution_count": null,
   "outputs": [],
   "source": [
    "#Creamos unas listas\n",
    "y_true = [0, 0, 0, 1, 0, 0, 0, 0, 0, 0,\n",
    "          1, 0, 0, 0, 0, 0, 0, 0, 1, 0]\n",
    "\n",
    "y_pred = [0.02638412, 0.11114267, 0.31620708,\n",
    "          0.0490937, 0.0191491, 0.17554844,\n",
    "          0.15952202, 0.03819563, 0.11639273,\n",
    "          0.079377, 0.08584789, 0.39095342,\n",
    "          0.27259048, 0.03447096, 0.04644807,\n",
    "          0.03543574, 0.18521942, 0.05934905,\n",
    "          0.61977213, 0.33056815]\n",
    "\n",
    "thresholds = [0.0490937, 0.05934905, 0.079377,\n",
    "              0.08584789, 0.11114267, 0.11639273,\n",
    "              0.15952202, 0.17554844, 0.18521942,\n",
    "              0.27259048, 0.31620708, 0.33056815,\n",
    "              0.39095342, 0.61977213]\n",
    "\n",
    "precisions = []\n",
    "recalls = []\n",
    "\n",
    "#Para cada treshold, calcularemos las predicciones de manera binaria\n",
    "#y agregamos a las listas correspondientes las precisiones y recalls\n",
    "for i in thresholds:\n",
    "    temp_prediction = [1 if x >= i else 0 for x in y_pred]\n",
    "    p = precision(y_true, temp_prediction)\n",
    "    r = recall(y_true, temp_prediction)\n",
    "    precisions.append(p)\n",
    "    recalls.append(r)\n"
   ],
   "metadata": {
    "collapsed": false,
    "pycharm": {
     "name": "#%%\n"
    }
   }
  }
 ],
 "metadata": {
  "kernelspec": {
   "display_name": "Python 3",
   "language": "python",
   "name": "python3"
  },
  "language_info": {
   "codemirror_mode": {
    "name": "ipython",
    "version": 2
   },
   "file_extension": ".py",
   "mimetype": "text/x-python",
   "name": "python",
   "nbconvert_exporter": "python",
   "pygments_lexer": "ipython2",
   "version": "2.7.6"
  }
 },
 "nbformat": 4,
 "nbformat_minor": 0
}