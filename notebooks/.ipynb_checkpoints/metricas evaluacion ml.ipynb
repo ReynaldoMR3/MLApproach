{
 "cells": [
  {
   "cell_type": "markdown",
   "metadata": {
    "collapsed": true,
    "pycharm": {
     "name": "#%% md\n"
    }
   },
   "source": [
    "# Metricas de evaluación para modelos de Machine Learning"
   ]
  },
  {
   "cell_type": "code",
   "execution_count": 4,
   "outputs": [],
   "source": [
    "def accuracy(y_true, y_pred):\n",
    "    \"\"\"\n",
    "    Funcion que calcula la exactitud\n",
    "    :param y_true: valores verdaderos\n",
    "    :param y_pred: valores predichos\n",
    "    :return: score de exactitud (accuracy)\n",
    "    \"\"\"\n",
    "    #Iniciando un simple contador\n",
    "    correct_counter = 0\n",
    "    #loop de los elementos en y_true y y_pred juntos\n",
    "    for yt, yp in zip(y_true, y_pred):\n",
    "        if yt == yp:\n",
    "            #Si la prediccion es igual al valor verdadero, incrementa el contador\n",
    "            correct_counter += 1\n",
    "\n",
    "    return correct_counter/len(y_true)"
   ],
   "metadata": {
    "collapsed": false,
    "pycharm": {
     "name": "#%%\n"
    }
   }
  },
  {
   "cell_type": "code",
   "execution_count": 14,
   "outputs": [
    {
     "data": {
      "text/plain": "0.6666666666666666"
     },
     "execution_count": 14,
     "metadata": {},
     "output_type": "execute_result"
    }
   ],
   "source": [
    "accuracy([0,1,1,1,0,1,0,0,1], [0,1,1,0,0,0,1,0,1])"
   ],
   "metadata": {
    "collapsed": false,
    "pycharm": {
     "name": "#%%\n"
    }
   }
  },
  {
   "cell_type": "markdown",
   "source": [
    "#### Las siguientes funciones solo sirven para para clasificaciones binarias."
   ],
   "metadata": {
    "collapsed": false,
    "pycharm": {
     "name": "#%% md\n"
    }
   }
  },
  {
   "cell_type": "code",
   "execution_count": 15,
   "outputs": [],
   "source": [
    "def true_positive(y_true, y_pred):\n",
    "    \"\"\"\n",
    "    Funcion que calcula los verdaderos positivos\n",
    "    :param y_true: valores verdaderos\n",
    "    :param y_pred: valores predichos\n",
    "    :return: total de verdaderos positivos\n",
    "    \"\"\"\n",
    "    #iniciando\n",
    "    tp = 0\n",
    "    for yt, yp in zip(y_true, y_pred):\n",
    "        if yt == 1 and yp == 1:\n",
    "            tp +=1\n",
    "\n",
    "    return tp"
   ],
   "metadata": {
    "collapsed": false,
    "pycharm": {
     "name": "#%%\n"
    }
   }
  },
  {
   "cell_type": "code",
   "execution_count": 16,
   "outputs": [],
   "source": [
    "def true_negative(y_true, y_pred):\n",
    "    \"\"\"\n",
    "    Funcion que calcula los verdaderos negativos\n",
    "    :param y_true: valores verdaderos\n",
    "    :param y_pred: valores predichos\n",
    "    :return: total de verdaderos negativos\n",
    "    \"\"\"\n",
    "    #iniciando\n",
    "    tn = 0\n",
    "\n",
    "    for yt, yp in zip(y_true, y_pred):\n",
    "        if yt == 0 and yp == 0:\n",
    "            tn += 1\n",
    "\n",
    "    return tn"
   ],
   "metadata": {
    "collapsed": false,
    "pycharm": {
     "name": "#%%\n"
    }
   }
  },
  {
   "cell_type": "code",
   "execution_count": 17,
   "outputs": [],
   "source": [
    "def false_positive(y_true, y_pred):\n",
    "    \"\"\"\n",
    "    Función que calcula los falsos positivos\n",
    "    :param y_true: valores verdaderos\n",
    "    :param y_pred: valores predichos\n",
    "    :return: total de falsos positivos\n",
    "    \"\"\"\n",
    "    #iniciando\n",
    "    fp = 0\n",
    "\n",
    "    for yt, yp in zip(y_true, y_pred):\n",
    "        if yt == 0 and yp == 1:\n",
    "            fp += 1\n",
    "\n",
    "    return fp"
   ],
   "metadata": {
    "collapsed": false,
    "pycharm": {
     "name": "#%%\n"
    }
   }
  },
  {
   "cell_type": "code",
   "execution_count": 18,
   "outputs": [],
   "source": [
    "def false_negative(y_true, y_pred):\n",
    "    \"\"\"\n",
    "    Funcion que calcula los falsos positivos\n",
    "    :param y_true: valores verdaderos\n",
    "    :param y_pred: valores predichos\n",
    "    :return: total de falsos positivos\n",
    "    \"\"\"\n",
    "    #iniciando\n",
    "    fn = 0\n",
    "    for yt, yp in zip(y_true, y_pred):\n",
    "        if yt == 1 and yp == 0:\n",
    "            fn += 1\n",
    "\n",
    "    return fn"
   ],
   "metadata": {
    "collapsed": false,
    "pycharm": {
     "name": "#%%\n"
    }
   }
  },
  {
   "cell_type": "code",
   "execution_count": 21,
   "outputs": [
    {
     "name": "stdout",
     "output_type": "stream",
     "text": [
      "Verdaderos positivos:  3\n",
      "Verdaderos negativos:  2\n",
      "Falsos positivos:  2\n",
      "Falsos negativos:  1\n"
     ]
    }
   ],
   "source": [
    "l1 = [0,1,1,1,0,0,0,1]\n",
    "l2 = [0,1,1,0,1,1,0,1]\n",
    "\n",
    "print(\"Verdaderos positivos: \", true_positive(l1,l2))\n",
    "print(\"Verdaderos negativos: \", true_negative(l1,l2))\n",
    "print(\"Falsos positivos: \", false_positive(l1,l2))\n",
    "print(\"Falsos negativos: \", false_negative(l1, l2))"
   ],
   "metadata": {
    "collapsed": false,
    "pycharm": {
     "name": "#%%\n"
    }
   }
  },
  {
   "cell_type": "markdown",
   "source": [
    "$accuracy$_$score$ = $\\frac{{TP + TN}}{TP + TN + FP + FN}$"
   ],
   "metadata": {
    "collapsed": false,
    "pycharm": {
     "name": "#%% md\n"
    }
   }
  },
  {
   "cell_type": "code",
   "execution_count": 24,
   "outputs": [
    {
     "name": "stderr",
     "output_type": "stream",
     "text": [
      "c:\\users\\w10\\appdata\\local\\programs\\python\\python37\\lib\\importlib\\_bootstrap.py:219: RuntimeWarning: numpy.ufunc size changed, may indicate binary incompatibility. Expected 192 from C header, got 216 from PyObject\n",
      "  return f(*args, **kwds)\n"
     ]
    },
    {
     "name": "stdout",
     "output_type": "stream",
     "text": [
      "Exactitud 1:  0.625\n",
      "Exactitud 2:  0.625\n",
      "Exactitud 3:  0.625\n"
     ]
    }
   ],
   "source": [
    "from sklearn import metrics\n",
    "tp = true_positive(l1,l2)\n",
    "tn = true_negative(l1, l2)\n",
    "fp = false_positive(l1, l2)\n",
    "fn = false_negative(l1, l2)\n",
    "accuracy_score = (tp + tn) / (tp + tn + fp + fn)\n",
    "print(\"Exactitud 1: \", accuracy_score)\n",
    "print(\"Exactitud 2: \", accuracy(l1, l2))\n",
    "print(\"Exactitud 3: \", metrics.accuracy_score(l1, l2))"
   ],
   "metadata": {
    "collapsed": false,
    "pycharm": {
     "name": "#%%\n"
    }
   }
  },
  {
   "cell_type": "markdown",
   "source": [
    "$Precision$ = $\\frac{{TP}}{TP + FP}$"
   ],
   "metadata": {
    "collapsed": false,
    "pycharm": {
     "name": "#%% md\n"
    }
   }
  },
  {
   "cell_type": "code",
   "execution_count": 27,
   "outputs": [],
   "source": [
    "def precision(y_true, y_pred):\n",
    "    \"\"\"\n",
    "    Funcion para calcular la precision\n",
    "    :param y_true: valores verdaderos\n",
    "    :param y_pred: valores predichos\n",
    "    :return: puntaje de precision\n",
    "    \"\"\"\n",
    "    tp = true_positive(y_true, y_pred)\n",
    "    fp = false_positive(y_true, y_pred)\n",
    "    precision = tp / (tp + fp)\n",
    "\n",
    "    return  precision\n"
   ],
   "metadata": {
    "collapsed": false,
    "pycharm": {
     "name": "#%%\n"
    }
   }
  },
  {
   "cell_type": "code",
   "execution_count": 28,
   "outputs": [
    {
     "name": "stdout",
     "output_type": "stream",
     "text": [
      "Precision : 0.6\n"
     ]
    }
   ],
   "source": [
    "print(\"Precision :\", precision(l1,l2))"
   ],
   "metadata": {
    "collapsed": false,
    "pycharm": {
     "name": "#%%\n"
    }
   }
  },
  {
   "cell_type": "markdown",
   "source": [
    "Ahora calcularemos cuantas muestras positivas identifica\n",
    "\n",
    "$Recall$ = $\\frac{{TP}}{TP+FN}$"
   ],
   "metadata": {
    "collapsed": false,
    "pycharm": {
     "name": "#%% md\n"
    }
   }
  },
  {
   "cell_type": "code",
   "execution_count": 30,
   "outputs": [],
   "source": [
    "def recall(y_true, y_pred):\n",
    "    \"\"\"\n",
    "    Funcion que calcula el total de muestras positivas identificadas\n",
    "    :param y_true: valores verdaderos\n",
    "    :param y_pred: valores predecidos\n",
    "    :return: total de muestras positivas identificadas\n",
    "    \"\"\"\n",
    "    tp = true_positive(y_true, y_pred)\n",
    "    fn = false_negative(y_true, y_pred)\n",
    "    recall = tp / (tp + fn)\n",
    "\n",
    "    return recall"
   ],
   "metadata": {
    "collapsed": false,
    "pycharm": {
     "name": "#%%\n"
    }
   }
  },
  {
   "cell_type": "code",
   "execution_count": 31,
   "outputs": [
    {
     "name": "stdout",
     "output_type": "stream",
     "text": [
      "Total de meustras posivitas identificadas:  0.75\n"
     ]
    }
   ],
   "source": [
    "print(\"Total de meustras posivitas identificadas: \", recall(l1,l2))"
   ],
   "metadata": {
    "collapsed": false,
    "pycharm": {
     "name": "#%%\n"
    }
   }
  },
  {
   "cell_type": "code",
   "execution_count": 32,
   "outputs": [],
   "source": [],
   "metadata": {
    "collapsed": false,
    "pycharm": {
     "name": "#%%\n"
    }
   }
  },
  {
   "cell_type": "code",
   "execution_count": null,
   "outputs": [],
   "source": [
    "\n"
   ],
   "metadata": {
    "collapsed": false,
    "pycharm": {
     "name": "#%%\n"
    }
   }
  }
 ],
 "metadata": {
  "kernelspec": {
   "display_name": "Python 3",
   "language": "python",
   "name": "python3"
  },
  "language_info": {
   "codemirror_mode": {
    "name": "ipython",
    "version": 2
   },
   "file_extension": ".py",
   "mimetype": "text/x-python",
   "name": "python",
   "nbconvert_exporter": "python",
   "pygments_lexer": "ipython2",
   "version": "2.7.6"
  }
 },
 "nbformat": 4,
 "nbformat_minor": 0
}